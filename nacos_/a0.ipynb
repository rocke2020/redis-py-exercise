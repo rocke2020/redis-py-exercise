{
 "cells": [
  {
   "cell_type": "code",
   "execution_count": 2,
   "metadata": {},
   "outputs": [
    {
     "name": "stderr",
     "output_type": "stream",
     "text": [
      "[delete-file] file not exists, file path:nacos-data/snapshot/config.nacos+group+\n"
     ]
    },
    {
     "name": "stdout",
     "output_type": "stream",
     "text": [
      "None\n"
     ]
    }
   ],
   "source": [
    "import nacos\n",
    "\n",
    "# Both HTTP/HTTPS protocols are supported, if not set protocol prefix default is HTTP, and HTTPS with no ssl check(verify=False)\n",
    "# \"192.168.3.4:8848\" or \"https://192.168.3.4:443\" or \"http://192.168.3.4:8848,192.168.3.5:8848\" or \"https://192.168.3.4:443,https://192.168.3.5:443\"\n",
    "SERVER_ADDRESSES = \"127.0.0.1:8848\"\n",
    "NAMESPACE = \"namespace id\"\n",
    "\n",
    "# no auth mode\n",
    "client = nacos.NacosClient(SERVER_ADDRESSES)\n",
    "# auth mode\n",
    "#client = nacos.NacosClient(SERVER_ADDRESSES, namespace=NAMESPACE, ak=\"{ak}\", sk=\"{sk}\")\n",
    "\n",
    "# get config\n",
    "data_id = \"config.nacos\"\n",
    "group = \"group\"\n",
    "print(client.get_config(data_id, group))"
   ]
  },
  {
   "cell_type": "code",
   "execution_count": 3,
   "metadata": {},
   "outputs": [
    {
     "name": "stdout",
     "output_type": "stream",
     "text": [
      "None\n"
     ]
    }
   ],
   "source": [
    "import nacos\n",
    "\n",
    "# Both HTTP/HTTPS protocols are supported, if not set protocol prefix default is HTTP, and HTTPS with no ssl check(verify=False)\n",
    "# \"192.168.3.4:8848\" or \"https://192.168.3.4:443\" or \"http://192.168.3.4:8848,192.168.3.5:8848\" or \"https://192.168.3.4:443,https://192.168.3.5:443\"\n",
    "SERVER_ADDRESSES = \"127.0.0.1:8848\"\n",
    "NAMESPACE = \"namespace id\"\n",
    "\n",
    "# no auth mode\n",
    "client = nacos.NacosClient(SERVER_ADDRESSES, namespace=NAMESPACE)\n",
    "# auth mode\n",
    "#client = nacos.NacosClient(SERVER_ADDRESSES, namespace=NAMESPACE, ak=\"{ak}\", sk=\"{sk}\")\n",
    "\n",
    "# get config\n",
    "data_id = \"config.nacos\"\n",
    "group = \"group\"\n",
    "print(client.get_config(data_id, group))"
   ]
  }
 ],
 "metadata": {
  "kernelspec": {
   "display_name": "nacos",
   "language": "python",
   "name": "python3"
  },
  "language_info": {
   "codemirror_mode": {
    "name": "ipython",
    "version": 3
   },
   "file_extension": ".py",
   "mimetype": "text/x-python",
   "name": "python",
   "nbconvert_exporter": "python",
   "pygments_lexer": "ipython3",
   "version": "3.10.15"
  }
 },
 "nbformat": 4,
 "nbformat_minor": 2
}
