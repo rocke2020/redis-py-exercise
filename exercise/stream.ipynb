{
 "cells": [
  {
   "cell_type": "code",
   "execution_count": 1,
   "metadata": {},
   "outputs": [
    {
     "name": "stdout",
     "output_type": "stream",
     "text": [
      "1732144703536-0\n",
      "1732144703537-0\n",
      "1732144703538-0\n"
     ]
    }
   ],
   "source": [
    "\"\"\"\n",
    "Code samples for Stream doc pages:\n",
    "    https://redis.io/docs/latest/develop/data-types/streams/\n",
    "\"\"\"\n",
    "\n",
    "import redis\n",
    "\n",
    "r = redis.Redis(decode_responses=True)\n",
    "\n",
    "res1 = r.xadd(\n",
    "    \"race:france\",\n",
    "    {\"rider\": \"Castilla\", \"speed\": 30.2, \"position\": 1, \"location_id\": 1},\n",
    ")\n",
    "print(res1)  # >>> 1692629576966-0\n",
    "\n",
    "res2 = r.xadd(\n",
    "    \"race:france\",\n",
    "    {\"rider\": \"Norem\", \"speed\": 28.8, \"position\": 3, \"location_id\": 1},\n",
    ")\n",
    "print(res2)  # >>> 1692629594113-0\n",
    "\n",
    "res3 = r.xadd(\n",
    "    \"race:france\",\n",
    "    {\"rider\": \"Prickett\", \"speed\": 29.7, \"position\": 2, \"location_id\": 1},\n",
    ")\n",
    "print(res3)  # >>> 1692629613374-0"
   ]
  },
  {
   "cell_type": "code",
   "execution_count": 2,
   "metadata": {},
   "outputs": [
    {
     "name": "stdout",
     "output_type": "stream",
     "text": [
      "[('1732144703536-0', {'rider': 'Castilla', 'speed': '30.2', 'position': '1', 'location_id': '1'}), ('1732144703537-0', {'rider': 'Norem', 'speed': '28.8', 'position': '3', 'location_id': '1'})]\n"
     ]
    }
   ],
   "source": [
    "res4 = r.xrange(\"race:france\", \"1732144703536-0\", \"+\", 2)\n",
    "print(\n",
    "    res4\n",
    ")"
   ]
  },
  {
   "cell_type": "code",
   "execution_count": 3,
   "metadata": {},
   "outputs": [
    {
     "name": "stdout",
     "output_type": "stream",
     "text": [
      "[['race:france', [('1732144703536-0', {'rider': 'Castilla', 'speed': '30.2', 'position': '1', 'location_id': '1'}), ('1732144703537-0', {'rider': 'Norem', 'speed': '28.8', 'position': '3', 'location_id': '1'}), ('1732144703538-0', {'rider': 'Prickett', 'speed': '29.7', 'position': '2', 'location_id': '1'})]]]\n"
     ]
    }
   ],
   "source": [
    "res5 = r.xread(streams={\"race:france\": 0}, count=100, block=300)\n",
    "print(\n",
    "    res5\n",
    ")"
   ]
  }
 ],
 "metadata": {
  "kernelspec": {
   "display_name": "redis",
   "language": "python",
   "name": "python3"
  },
  "language_info": {
   "codemirror_mode": {
    "name": "ipython",
    "version": 3
   },
   "file_extension": ".py",
   "mimetype": "text/x-python",
   "name": "python",
   "nbconvert_exporter": "python",
   "pygments_lexer": "ipython3",
   "version": "3.10.15"
  }
 },
 "nbformat": 4,
 "nbformat_minor": 2
}
