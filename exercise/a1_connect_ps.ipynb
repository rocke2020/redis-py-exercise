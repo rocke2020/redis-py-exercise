{
 "cells": [
  {
   "cell_type": "code",
   "execution_count": 6,
   "metadata": {},
   "outputs": [
    {
     "name": "stdout",
     "output_type": "stream",
     "text": [
      "True\n"
     ]
    }
   ],
   "source": [
    "import redis\n",
    "import os\n",
    "\n",
    "\n",
    "ip = os.environ.get(\"REDIS_HOST_GPU\", \"localhost\")\n",
    "port = os.environ.get(\"REDIS_PORT_GPU\", \"6379\")\n",
    "password = os.environ.get(\"REDIS_PASSWORD_GPU\", \"foobared\")\n",
    "db = 0\n",
    "\n",
    "__pool = redis.ConnectionPool(\n",
    "    host=ip,\n",
    "    port=port,\n",
    "    password=password,\n",
    "    db=db,\n",
    "    decode_responses=True,\n",
    "    health_check_interval=10,\n",
    "    socket_timeout=5,  # 连接超时时间（秒）\n",
    "    socket_connect_timeout=5,  # 建立连接超时时间（秒）\n",
    "    retry_on_timeout=True,\n",
    ")\n",
    "res = redis.Redis(connection_pool=__pool, db=db, password=password)\n",
    "print(res.ping())"
   ]
  }
 ],
 "metadata": {
  "kernelspec": {
   "display_name": "redis",
   "language": "python",
   "name": "python3"
  },
  "language_info": {
   "codemirror_mode": {
    "name": "ipython",
    "version": 3
   },
   "file_extension": ".py",
   "mimetype": "text/x-python",
   "name": "python",
   "nbconvert_exporter": "python",
   "pygments_lexer": "ipython3",
   "version": "3.10.15"
  }
 },
 "nbformat": 4,
 "nbformat_minor": 2
}
