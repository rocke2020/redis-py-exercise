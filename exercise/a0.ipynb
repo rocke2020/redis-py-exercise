{
 "cells": [
  {
   "cell_type": "code",
   "execution_count": 1,
   "metadata": {},
   "outputs": [
    {
     "name": "stdout",
     "output_type": "stream",
     "text": [
      "True\n",
      "Process 134\n"
     ]
    }
   ],
   "source": [
    "import redis\n",
    "\n",
    "\n",
    "r = redis.Redis(host=\"localhost\", port=6379, db=0, decode_responses=True)\n",
    "res = r.set(\"bike:1\", \"Process 134\")\n",
    "print(res)\n",
    "# >>> True\n",
    "\n",
    "res = r.get(\"bike:1\")\n",
    "print(res)"
   ]
  },
  {
   "cell_type": "code",
   "execution_count": 11,
   "metadata": {},
   "outputs": [
    {
     "name": "stdout",
     "output_type": "stream",
     "text": [
      "0\n",
      "Deimos\n",
      "4972\n",
      "{'model': 'Deimos', 'brand': 'Ergonom', 'type': 'Enduro bikes', 'price': '4972'}\n"
     ]
    }
   ],
   "source": [
    "\"\"\"\n",
    "Code samples for Hash doc pages:\n",
    "    https://redis.io/docs/latest/develop/data-types/hashes/\n",
    "\"\"\"\n",
    "# Delete the existing key to avoid WRONGTYPE error\n",
    "# r.delete(\"bike:1\")\n",
    "\n",
    "r2 = redis.Redis(host=\"localhost\", port=6379, decode_responses=True)\n",
    "res1 = r2.hset(\n",
    "    \"bike:2\",\n",
    "    mapping={\n",
    "        \"model\": \"Deimos\",\n",
    "        \"brand\": \"Ergonom\",\n",
    "        \"type\": \"Enduro bikes\",\n",
    "        \"price\": 4972,\n",
    "    },\n",
    ")\n",
    "print(res1)\n",
    "\n",
    "res2 = r.hget(\"bike:2\", \"model\")\n",
    "print(res2)\n",
    "# >>> 'Deimos'\n",
    "\n",
    "res3 = r.hget(\"bike:2\", \"price\")\n",
    "print(res3)\n",
    "# >>> '4972'\n",
    "\n",
    "res4 = r.hgetall(\"bike:2\")\n",
    "print(res4)"
   ]
  },
  {
   "cell_type": "code",
   "execution_count": 19,
   "metadata": {},
   "outputs": [
    {
     "name": "stdout",
     "output_type": "stream",
     "text": [
      "None\n",
      "bike\n",
      "True\n",
      "bike\n"
     ]
    }
   ],
   "source": [
    "res3 = r.set(\"bike:1\", \"bike-new\", nx=True)\n",
    "print(res3)  # None\n",
    "print(r.get(\"bike:1\"))  # Deimos\n",
    "res4 = r.set(\"bike:1\", \"bike\", xx=True)\n",
    "print(res4)\n",
    "print(r.get(\"bike:1\"))  # bike"
   ]
  },
  {
   "cell_type": "code",
   "execution_count": 15,
   "metadata": {},
   "outputs": [
    {
     "name": "stdout",
     "output_type": "stream",
     "text": [
      "True\n",
      "['Deimos', 'Ares', 'Vanth']\n",
      "1\n",
      "11\n"
     ]
    }
   ],
   "source": [
    "res5 = r.mset({\"bike:1\": \"Deimos\", \"bike:2\": \"Ares\", \"bike:3\": \"Vanth\"})\n",
    "print(res5)  # True\n",
    "res6 = r.mget([\"bike:1\", \"bike:2\", \"bike:3\"])\n",
    "print(res6)  # ['Deimos', 'Ares', 'Vanth']\n",
    "\n",
    "\n",
    "r.set(\"total_crashes\", 0)\n",
    "res7 = r.incr(\"total_crashes\")\n",
    "print(res7)  # 1\n",
    "res8 = r.incrby(\"total_crashes\", 10)\n",
    "print(res8)  # 11\n"
   ]
  }
 ],
 "metadata": {
  "kernelspec": {
   "display_name": "redis",
   "language": "python",
   "name": "python3"
  },
  "language_info": {
   "codemirror_mode": {
    "name": "ipython",
    "version": 3
   },
   "file_extension": ".py",
   "mimetype": "text/x-python",
   "name": "python",
   "nbconvert_exporter": "python",
   "pygments_lexer": "ipython3",
   "version": "3.10.15"
  }
 },
 "nbformat": 4,
 "nbformat_minor": 2
}
